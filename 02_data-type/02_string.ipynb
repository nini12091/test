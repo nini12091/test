{
 "cells": [
  {
   "cell_type": "markdown",
   "metadata": {},
   "source": [
    "---\n",
    "\n",
    "### 문자형(문자열)"
   ]
  },
  {
   "cell_type": "code",
   "execution_count": 7,
   "metadata": {},
   "outputs": [],
   "source": [
    "my_name = \"sky\"\n",
    "your_name = \"\"\n",
    "error_name = \"이건 안됨'\""
   ]
  },
  {
   "cell_type": "code",
   "execution_count": 8,
   "metadata": {},
   "outputs": [
    {
     "name": "stdout",
     "output_type": "stream",
     "text": [
      "sky  이건 안됨'\n"
     ]
    }
   ],
   "source": [
    "print(my_name, your_name, error_name)"
   ]
  },
  {
   "cell_type": "code",
   "execution_count": 9,
   "metadata": {},
   "outputs": [
    {
     "name": "stdout",
     "output_type": "stream",
     "text": [
      "<class 'str'> <class 'str'> <class 'str'>\n"
     ]
    }
   ],
   "source": [
    "print(type(my_name), type(your_name), type(error_name))"
   ]
  },
  {
   "cell_type": "markdown",
   "metadata": {},
   "source": [
    "---\n",
    "\n",
    "### 문자형의 연산"
   ]
  },
  {
   "cell_type": "code",
   "execution_count": 17,
   "metadata": {},
   "outputs": [
    {
     "name": "stdout",
     "output_type": "stream",
     "text": [
      "오늘 점심 메뉴는?포케\n",
      "포케포케포케포케포케\n"
     ]
    }
   ],
   "source": [
    "str1 = \"오늘 점심 메뉴는?\"\n",
    "str2 = \"포케\"\n",
    "\n",
    "print(str1 + str2)\n",
    "# print(str1 - str2)\n",
    "# print(str1 * str2)\n",
    "print(str2 * 5)"
   ]
  },
  {
   "cell_type": "markdown",
   "metadata": {},
   "source": [
    "---\n",
    "\n",
    "### 포맷팅 (f-string)"
   ]
  },
  {
   "cell_type": "code",
   "execution_count": 27,
   "metadata": {},
   "outputs": [
    {
     "name": "stdout",
     "output_type": "stream",
     "text": [
      "다람쥐는 겨울철 양식으로 고구마 1000개를 쿠팡했습니다.\n",
      "다람쥐는 겨울철 양식으로 고구마 100개를 쿠팡했습니다.\n",
      "다람쥐는 겨울철 양식으로 고구마 1000 개를 쿠팡했습니다.\n",
      "다람쥐는 겨울철 양식으로 도토리 100개를 쿠팡했습니다.\n"
     ]
    }
   ],
   "source": [
    "food = \"고구마\"\n",
    "count = 1000\n",
    "\n",
    "print(f'다람쥐는 겨울철 양식으로 {food} {count}개를 쿠팡했습니다.')\n",
    "print('다람쥐는 겨울철 양식으로 ' + food + ' 100개를 쿠팡했습니다.')\n",
    "print('다람쥐는 겨울철 양식으로', food, count, '개를 쿠팡했습니다.')\n",
    "print('다람쥐는 겨울철 양식으로 도토리 100개를 쿠팡했습니다.')"
   ]
  },
  {
   "cell_type": "markdown",
   "metadata": {},
   "source": [
    "---\n",
    "\n",
    "### 실습문제"
   ]
  },
  {
   "cell_type": "markdown",
   "metadata": {},
   "source": [
    "### **문제 1**\n",
    "\n",
    "아래 조건에 맞게 변수를 선언하고 결과를 출력하세요.\n",
    "\n",
    "1. `greeting_message` 변수에 문자열 `\"Hello\"`를 저장합니다.\n",
    "2. `greeting_target` 변수에 `\"World\"`를 저장합니다.\n",
    "3. 두 문자열을 이어 붙여 `\"HelloWorld\"`를 출력하세요."
   ]
  },
  {
   "cell_type": "code",
   "execution_count": 30,
   "metadata": {},
   "outputs": [
    {
     "name": "stdout",
     "output_type": "stream",
     "text": [
      "HelloWorld\n"
     ]
    }
   ],
   "source": [
    "greeting_message = \"Hello\"\n",
    "greeting_target = \"World\"\n",
    "print(greeting_message + greeting_target)"
   ]
  },
  {
   "cell_type": "markdown",
   "metadata": {},
   "source": [
    "### **문제 2**\n",
    "\n",
    "1. `age`에 당신의 나이, `city`에 당신의 거주지를 저장합니다.\n",
    "2. f-string을 사용하여 다음 문장과 같은 형태로 출력하세요.\n",
    "    - `\"나는 25살이고, Seoul에 살고 있습니다.\"`"
   ]
  },
  {
   "cell_type": "code",
   "execution_count": 29,
   "metadata": {},
   "outputs": [
    {
     "name": "stdout",
     "output_type": "stream",
     "text": [
      "나는 26살이고, seoul에서 살고 있습니다.\n"
     ]
    }
   ],
   "source": [
    "age = 26\n",
    "city = \"seoul\"\n",
    "\n",
    "print(f\"나는 {age}살이고, {city}에서 살고 있습니다.\")"
   ]
  }
 ],
 "metadata": {
  "kernelspec": {
   "display_name": "sky_env",
   "language": "python",
   "name": "python3"
  },
  "language_info": {
   "codemirror_mode": {
    "name": "ipython",
    "version": 3
   },
   "file_extension": ".py",
   "mimetype": "text/x-python",
   "name": "python",
   "nbconvert_exporter": "python",
   "pygments_lexer": "ipython3",
   "version": "3.12.8"
  }
 },
 "nbformat": 4,
 "nbformat_minor": 2
}
